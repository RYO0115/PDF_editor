{
 "cells": [
  {
   "cell_type": "code",
   "execution_count": 1,
   "source": [
    "# You need to pip install pypdf2\n",
    "import PyPDF2\n",
    "\n",
    "import os,sys\n",
    "import glob\n",
    "\n",
    "cur_dir = os.getcwd()\n",
    "\n"
   ],
   "outputs": [],
   "metadata": {}
  },
  {
   "cell_type": "code",
   "execution_count": 42,
   "source": [
    "\n",
    "output_dir = cur_dir + \"/../pdf_files/output/\"\n",
    "input_dir = cur_dir + \"/../pdf_files/input/\""
   ],
   "outputs": [],
   "metadata": {}
  },
  {
   "cell_type": "code",
   "execution_count": 45,
   "source": [
    "pdf_writer = PyPDF2.PdfFileWriter()\n",
    "\n",
    "for i in range(5):\n",
    "    pdf_writer.addBlankPage(width=219, height=297)\n",
    "\n",
    "with open(input_dir + \"test.pdf\", \"wb\" ) as f:\n",
    "    pdf_writer.write(f)\n",
    "\n",
    "for i in range(1):\n",
    "    pdf_writer.addBlankPage(width=219, height=297)\n",
    "\n",
    "with open(input_dir + \"test2.pdf\", \"wb\" ) as f:\n",
    "    pdf_writer.write(f)\n"
   ],
   "outputs": [],
   "metadata": {}
  },
  {
   "cell_type": "code",
   "execution_count": 46,
   "source": [
    "\n",
    "input_pdf_filenames = glob.glob(input_dir + \"*.pdf\")\n",
    "input_pdf_filenames.sort()\n",
    "output_pdf_filename = output_dir + \"merged.pdf\"\n",
    "input_pdf_filenames\n",
    "output_pdf_filename"
   ],
   "outputs": [
    {
     "output_type": "execute_result",
     "data": {
      "text/plain": [
       "'/home/komatsu/workspace/PDF_editor/jupyter/../pdf_files/output/merged.pdf'"
      ]
     },
     "metadata": {},
     "execution_count": 46
    }
   ],
   "metadata": {}
  },
  {
   "cell_type": "code",
   "execution_count": 9,
   "source": [
    "\n",
    "# Import PDF Files and merge into one file\n",
    "\n",
    "pdf_writer = PyPDF2.PdfFileWriter()\n",
    "for file in input_pdf_filenames:\n",
    "    pdf_reader = PyPDF2.PdfFileReader(file)\n",
    "    for page_id in range(pdf_reader.getNumPages()):\n",
    "        pdf_writer.addPage(pdf_reader.getPage(page_id))"
   ],
   "outputs": [],
   "metadata": {}
  },
  {
   "cell_type": "code",
   "execution_count": 10,
   "source": [
    "# Output Merged PDF File\n",
    "\n",
    "with open(output_pdf_filename, \"wb\") as f:\n",
    "    pdf_writer.write(f)"
   ],
   "outputs": [],
   "metadata": {}
  },
  {
   "cell_type": "code",
   "execution_count": 52,
   "source": [
    "class PDF_Editor:\n",
    "    def __init__(self):\n",
    "        self._input_filenames = []\n",
    "        self._output_filenames = []\n",
    "        print(self._input_filenames)\n",
    "        print(self._output_filenames)\n",
    "\n",
    "    def MergePDF(self, pdf_writer):\n",
    "        #pdf_writer = PyPDF2.PdfFileWriter()\n",
    "        for file in input_pdf_filenames:\n",
    "            pdf_reader = PyPDF2.PdfFileReader(file)\n",
    "            print(\"imported:\", file)\n",
    "            for page_id in range(pdf_reader.getNumPages()):\n",
    "                pdf_writer.addPage(pdf_reader.getPage(page_id))\n",
    "\n",
    "    def SeparatePDF(self, filename, pdf_writer1, pdf_writer2, border_page):\n",
    "        pdf_reader = PyPDF2.PdfFileReader(filename)\n",
    "        print(\"imported:\",filename)\n",
    "\n",
    "        for page_id in range(pdf_reader.getNumPages()):\n",
    "            if page_id < border_page:\n",
    "                pdf_writer1.addPage(pdf_reader.getPage(page_id))\n",
    "                print(\"pdf1:\", page_id)\n",
    "            else:\n",
    "                pdf_writer2.addPage(pdf_reader.getPage(page_id))\n",
    "                print(\"pdf2:\", page_id)\n",
    "\n",
    "    def OutputPDFFile(self, file_id, pdf_writer):\n",
    "        print(\"output:\", self._output_filenames[file_id])\n",
    "        with open(self._output_filenames[file_id], \"wb\") as f:\n",
    "            pdf_writer.write(f)\n",
    "\n",
    "    def AddInputFileName(self, filename):\n",
    "        self._input_filenames.append(filename)\n",
    "\n",
    "    def InsertInputFileName(self, filename, pos):\n",
    "        if(pos < len(self._input_filenames)):\n",
    "            dst_filename = self._input_filenames[pos]\n",
    "            self._input_filenames.append(dst_filename)\n",
    "            self._input_filenames[pos] = filename\n",
    "\n",
    "    def EditInputFileName(self, filename, pos):\n",
    "        if(pos < len(self._input_filenames)):\n",
    "            self._input_filenames[pos] = filename\n",
    "\n",
    "    def DeleteInputFileName(self, pos):\n",
    "        if(pos < len(self._input_filenames)):\n",
    "            self._input_filenames.remove(pos)\n",
    "\n",
    "    def ResetInputFileNames(self):\n",
    "        self._input_filenames = []\n",
    "\n",
    "    def AddOutputFileName(self, filename):\n",
    "        self._output_filenames.append(filename)\n",
    "    \n",
    "    def InsertOutputFileName(self, filename, pos):\n",
    "        if(pos < len(self._output_filenames)):\n",
    "            dst_filename = self._output_filenames[pos]\n",
    "            self._output_filenames.append(dst_filename)\n",
    "            self._output_filenames[pos] = filename\n",
    "\n",
    "    def EditOutputFileName(self, filename, pos):\n",
    "        if(pos < len(self._output_filenames)):\n",
    "            self._output_filenames[pos] = filename\n",
    "    \n",
    "\n",
    "    def DeleteOutputFileName(self, pos):\n",
    "        if(pos < len(self._output_filenames)):\n",
    "            self._output_filenames.remove(pos)\n",
    "    \n",
    "\n",
    "    def ResetOutputFileNames(self):\n",
    "        self._output_filenames = []\n",
    "\n",
    "\n",
    "    def ResetAllFileNames(self):\n",
    "        self.ResetInputFileNames()\n",
    "        self.ResetOutputFileNames()"
   ],
   "outputs": [],
   "metadata": {}
  },
  {
   "cell_type": "code",
   "execution_count": 53,
   "source": [
    "pdf_edit = PDF_Editor()\n",
    "\n",
    "for filename in input_pdf_filenames:\n",
    "    pdf_edit.AddInputFileName(filename)\n",
    "\n",
    "print(output_pdf_filename)\n",
    "pdf_edit.AddOutputFileName(output_pdf_filename)\n",
    "\n",
    "pdf_writer = PyPDF2.PdfFileWriter()\n",
    "pdf_edit.MergePDF(pdf_writer)\n",
    "\n",
    "pdf_edit.OutputPDFFile(0, pdf_writer)"
   ],
   "outputs": [
    {
     "output_type": "stream",
     "name": "stdout",
     "text": [
      "[]\n",
      "[]\n",
      "/home/komatsu/workspace/PDF_editor/jupyter/../pdf_files/output/merged.pdf\n",
      "imported: /home/komatsu/workspace/PDF_editor/jupyter/../pdf_files/input/test.pdf\n",
      "imported: /home/komatsu/workspace/PDF_editor/jupyter/../pdf_files/input/test2.pdf\n",
      "output: /home/komatsu/workspace/PDF_editor/jupyter/../pdf_files/output/merged.pdf\n"
     ]
    }
   ],
   "metadata": {}
  },
  {
   "cell_type": "code",
   "execution_count": 54,
   "source": [
    "pdf_edit.ResetAllFileNames()\n",
    "\n",
    "pdf_writer1 = PyPDF2.PdfFileWriter()\n",
    "pdf_writer2 = PyPDF2.PdfFileWriter()\n",
    "pdf_edit.SeparatePDF(output_pdf_filename, pdf_writer1, pdf_writer2, 5)\n",
    "\n",
    "with open(output_dir + \"output1.pdf\", \"wb\") as f1:\n",
    "    pdf_writer1.write(f1)\n",
    "\n",
    "with open(output_dir + \"output2.pdf\", \"wb\") as f2:\n",
    "    pdf_writer2.write(f2)"
   ],
   "outputs": [
    {
     "output_type": "stream",
     "name": "stdout",
     "text": [
      "imported: /home/komatsu/workspace/PDF_editor/jupyter/../pdf_files/output/merged.pdf\n",
      "pdf1: 0\n",
      "pdf1: 1\n",
      "pdf1: 2\n",
      "pdf1: 3\n",
      "pdf1: 4\n",
      "pdf2: 5\n",
      "pdf2: 6\n",
      "pdf2: 7\n",
      "pdf2: 8\n",
      "pdf2: 9\n",
      "pdf2: 10\n"
     ]
    }
   ],
   "metadata": {}
  },
  {
   "cell_type": "code",
   "execution_count": null,
   "source": [],
   "outputs": [],
   "metadata": {}
  }
 ],
 "metadata": {
  "interpreter": {
   "hash": "916dbcbb3f70747c44a77c7bcd40155683ae19c65e1c03b4aa3499c5328201f1"
  },
  "kernelspec": {
   "name": "python3",
   "display_name": "Python 3.8.10 64-bit"
  },
  "language_info": {
   "codemirror_mode": {
    "name": "ipython",
    "version": 3
   },
   "file_extension": ".py",
   "mimetype": "text/x-python",
   "name": "python",
   "nbconvert_exporter": "python",
   "pygments_lexer": "ipython3",
   "version": "3.8.10"
  },
  "orig_nbformat": 4
 },
 "nbformat": 4,
 "nbformat_minor": 2
}